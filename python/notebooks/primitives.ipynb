{
 "cells": [
  {
   "cell_type": "markdown",
   "metadata": {},
   "source": [
    "# Example: Drawing primitives"
   ]
  },
  {
   "cell_type": "code",
   "execution_count": 3,
   "metadata": {},
   "outputs": [],
   "source": [
    "# This will be needed to display the SVGs in the notebook\n",
    "from IPython.core.display import SVG\n",
    "\n",
    "# This is the actsvg module\n",
    "import actsvg\n",
    "from actsvg import core, draw, style"
   ]
  },
  {
   "cell_type": "markdown",
   "metadata": {},
   "source": [
    "The draw primitives are the tools most of the more complicated objects are built from, they can be added to any svg object at your convenience."
   ]
  },
  {
   "cell_type": "markdown",
   "metadata": {},
   "source": [
    "## Drawing a line\n",
    "\n",
    "This is an example of drawing a simple line from (0,0) to (100,100). \n",
    "Style and transform can be customized."
   ]
  },
  {
   "cell_type": "code",
   "execution_count": 4,
   "metadata": {},
   "outputs": [
    {
     "ename": "AttributeError",
     "evalue": "module 'actsvg' has no attribute 'draw'",
     "output_type": "error",
     "traceback": [
      "\u001b[31m---------------------------------------------------------------------------\u001b[39m",
      "\u001b[31mAttributeError\u001b[39m                            Traceback (most recent call last)",
      "\u001b[36mCell\u001b[39m\u001b[36m \u001b[39m\u001b[32mIn[4]\u001b[39m\u001b[32m, line 1\u001b[39m\n\u001b[32m----> \u001b[39m\u001b[32m1\u001b[39m line = \u001b[43mactsvg\u001b[49m\u001b[43m.\u001b[49m\u001b[43mdraw\u001b[49m.line(\u001b[33m\"\u001b[39m\u001b[33mline\u001b[39m\u001b[33m\"\u001b[39m, [\u001b[32m0\u001b[39m, \u001b[32m0\u001b[39m], [\u001b[32m100\u001b[39m, \u001b[32m100\u001b[39m], style.stroke(), style.transform())\n\u001b[32m      2\u001b[39m line_file = actsvg.io.file()\n\u001b[32m      3\u001b[39m line_file.add_object(line)\n",
      "\u001b[31mAttributeError\u001b[39m: module 'actsvg' has no attribute 'draw'"
     ]
    }
   ],
   "source": [
    "line = draw.line(\"line\", [0, 0], [100, 100], style.stroke(), style.transform())\n",
    "line_file = actsvg.io.file()\n",
    "line_file.add_object(line)\n",
    "line_file.write(\"line.svg\")\n",
    "SVG(filename=\"line.svg\")"
   ]
  },
  {
   "cell_type": "markdown",
   "metadata": {},
   "source": [
    "## Drawing an Arc\n",
    "\n",
    "This shows how to draw an arc, this is based on the SVG arc definitions"
   ]
  },
  {
   "cell_type": "code",
   "execution_count": 10,
   "metadata": {},
   "outputs": [
    {
     "data": {
      "image/svg+xml": [
       "<svg xmlns=\"http://www.w3.org/2000/svg\" xmlns:xlink=\"http://www.w3.org/1999/xlink\" version=\"1.1\" width=\"800\" height=\"800\" viewBox=\"-11.2 -122 22 130\">\n",
       "<path id=\"arc\" d=\"M 0 -0 A 10 10 0 0 0 10 -100\" fill=\"rgb(255,255,255)\" fill-opacity=\"0\" stroke=\"rgb(0,0,0)\" stroke-opacity=\"1\" stroke-width=\"0.5\"/>\n",
       "</svg>"
      ],
      "text/plain": [
       "<IPython.core.display.SVG object>"
      ]
     },
     "execution_count": 10,
     "metadata": {},
     "output_type": "execute_result"
    }
   ],
   "source": [
    "arc = draw.arc(\n",
    "    \"arc\", 10.0, [0, 0], [10, 100], style.fill(), style.stroke(), style.transform()\n",
    ")\n",
    "arc_file = actsvg.io.file()\n",
    "arc_file.add_object(arc)\n",
    "arc_file.write(\"arc.svg\")\n",
    "SVG(filename=\"arc.svg\")"
   ]
  },
  {
   "cell_type": "code",
   "execution_count": null,
   "metadata": {},
   "outputs": [],
   "source": []
  }
 ],
 "metadata": {
  "kernelspec": {
   "display_name": "Python 3 (ipykernel)",
   "language": "python",
   "name": "python3"
  },
  "language_info": {
   "codemirror_mode": {
    "name": "ipython",
    "version": 3
   },
   "file_extension": ".py",
   "mimetype": "text/x-python",
   "name": "python",
   "nbconvert_exporter": "python",
   "pygments_lexer": "ipython3",
   "version": "3.13.2"
  }
 },
 "nbformat": 4,
 "nbformat_minor": 4
}
